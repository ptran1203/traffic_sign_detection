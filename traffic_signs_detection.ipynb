{
  "nbformat": 4,
  "nbformat_minor": 0,
  "metadata": {
    "colab": {
      "name": "Copy of traffic_signs_detection",
      "provenance": [],
      "collapsed_sections": [],
      "include_colab_link": true
    },
    "kernelspec": {
      "display_name": "Python 3",
      "name": "python3"
    }
  },
  "cells": [
    {
      "cell_type": "markdown",
      "metadata": {
        "id": "view-in-github",
        "colab_type": "text"
      },
      "source": [
        "<a href=\"https://colab.research.google.com/github/ptran1203/traffic_sign_detection/blob/main/traffic_signs_detection.ipynb\" target=\"_parent\"><img src=\"https://colab.research.google.com/assets/colab-badge.svg\" alt=\"Open In Colab\"/></a>"
      ]
    },
    {
      "cell_type": "code",
      "metadata": {
        "id": "dmZPz0SeR_P7"
      },
      "source": [
        "from google.colab import drive, output\n",
        "\n",
        "# drive.mount('/content/drive')\n",
        "# !pip install tf-models-nightly\n",
        " \n",
        "%cd \"/content\"\n",
        "!rm -rf traffic_sign_detection\n",
        "!git clone https://github.com/ptran1203/traffic_sign_detection\n",
        "%cd traffic_sign_detection\n",
        "output.clear()"
      ],
      "execution_count": 1,
      "outputs": []
    },
    {
      "cell_type": "code",
      "metadata": {
        "id": "HqNM6v9PLvcb"
      },
      "source": [
        "!python3 prediction.py --input /content/test_imgs\\\n",
        "                       --output /content/submission.json\\\n",
        "                       --weight weights/weight_dense.h5\\"
      ],
      "execution_count": null,
      "outputs": []
    }
  ]
}